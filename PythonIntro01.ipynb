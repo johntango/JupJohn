{
 "cells": [
  {
   "cell_type": "markdown",
   "metadata": {},
   "source": [
    "## Python for Data Science\n",
    "#### Data Types \n",
    "#### str, int, float, complex, boolean\n",
    "#### Sequences/Collections  (list, tuple, range)\n",
    "#### Maps (dict )\n",
    "\n"
   ]
  },
  {
   "cell_type": "code",
   "execution_count": null,
   "metadata": {},
   "outputs": [],
   "source": [
    "# variables, values and types\n",
    "a = np.array([1,2])\n",
    "a.len"
   ]
  },
  {
   "cell_type": "code",
   "execution_count": null,
   "metadata": {},
   "outputs": [],
   "source": [
    "# int, float, type\n",
    "\n",
    "\n",
    "\n",
    "\n"
   ]
  },
  {
   "cell_type": "code",
   "execution_count": null,
   "metadata": {},
   "outputs": [],
   "source": [
    "\n",
    "\n",
    "\n",
    "\n",
    "\n",
    "\n",
    "\n"
   ]
  },
  {
   "cell_type": "code",
   "execution_count": null,
   "metadata": {},
   "outputs": [],
   "source": [
    "# variables, values and types\n",
    "a = 'Hello '\n",
    "b = \"World\"\n",
    "a + b\n",
    "c = a[1:3]\n",
    "c"
   ]
  },
  {
   "cell_type": "code",
   "execution_count": null,
   "metadata": {},
   "outputs": [],
   "source": [
    "# int, float, type\n",
    "\n",
    "a = 3\n",
    "b = str(a)\n",
    "c = 7.4\n",
    "d = int(c)\n",
    "d\n",
    "\n",
    "\n"
   ]
  },
  {
   "cell_type": "code",
   "execution_count": null,
   "metadata": {},
   "outputs": [],
   "source": [
    "# Camel case, Pascal case and Snake case\n",
    "temperature = 37.3\n",
    "myVariableName = 43  # Camel Case\n",
    "MyVariableName = 22  # Pascal Case\n",
    "my_variable_name = 33 # Snake Case\n",
    "\n",
    "\n",
    "\n"
   ]
  },
  {
   "cell_type": "code",
   "execution_count": null,
   "metadata": {},
   "outputs": [],
   "source": [
    "# boolean True False\n",
    "a = True \n",
    "b = False\n",
    "a != b\n"
   ]
  },
  {
   "cell_type": "code",
   "execution_count": null,
   "metadata": {},
   "outputs": [],
   "source": [
    "a = 4\n",
    "if a > 4:\n",
    "    print(a)\n",
    "elif a < 4:\n",
    "    print('a is less than 4')\n",
    "else:\n",
    "    print('a equals 4')\n",
    "    \n",
    "    \n"
   ]
  },
  {
   "cell_type": "code",
   "execution_count": null,
   "metadata": {},
   "outputs": [],
   "source": [
    "b = 3\n",
    "def myFunc(x, y):\n",
    "    return x + y\n",
    "    \n",
    "\n",
    "myResult = myFunc(9, 8)\n",
    "myResult"
   ]
  },
  {
   "cell_type": "raw",
   "metadata": {},
   "source": [
    "\n",
    "    "
   ]
  },
  {
   "cell_type": "raw",
   "metadata": {},
   "source": [
    "# Comparisions if, elif, else\n",
    "if a < b:\n",
    "    print(\"a is less than b\")\n",
    "elif a > b:\n",
    "    print(\"a is greater than b\")\n",
    "else:\n",
    "    print(\"a is equal to b\")"
   ]
  },
  {
   "cell_type": "raw",
   "metadata": {},
   "source": [
    "# Lists, Dictionaries, Tuples, Sets\n",
    "# [ ]       { : }         ( )     { }\n"
   ]
  },
  {
   "cell_type": "code",
   "execution_count": null,
   "metadata": {},
   "outputs": [],
   "source": [
    "# Lists\n",
    "a = [1, 2.23, 3, 4, 'Cat']\n",
    "a\n"
   ]
  },
  {
   "cell_type": "code",
   "execution_count": null,
   "metadata": {},
   "outputs": [],
   "source": [
    "# Loops, while, for \n",
    "fruits = ['apple', 'pear', 'peach']\n",
    "r = range(1,9,2)\n",
    "for i in r:\n",
    "    print(i)\n",
    "a = 3\n",
    "if a in r:\n",
    "    print(a)"
   ]
  },
  {
   "cell_type": "code",
   "execution_count": null,
   "metadata": {},
   "outputs": [],
   "source": [
    "i = 1\n",
    "while i in range(4):\n",
    "    print(i)\n",
    "    i = i + 1\n",
    "    break\n",
    "\n"
   ]
  },
  {
   "cell_type": "code",
   "execution_count": null,
   "metadata": {},
   "outputs": [],
   "source": [
    "# lists\n",
    "a = [4,3,2,1]\n",
    "a.append(5)\n",
    "a.sort()\n",
    "a.reverse()\n",
    "a.index(3)\n",
    "\n",
    "\n"
   ]
  },
  {
   "cell_type": "code",
   "execution_count": 4,
   "metadata": {},
   "outputs": [
    {
     "ename": "AttributeError",
     "evalue": "'dict' object has no attribute 'mytup'",
     "output_type": "error",
     "traceback": [
      "\u001b[0;31m------------------------------------------------------------------------\u001b[0m",
      "\u001b[0;31mAttributeError\u001b[0m                         Traceback (most recent call last)",
      "\u001b[0;32m<ipython-input-4-b167d5c161c8>\u001b[0m in \u001b[0;36m<module>\u001b[0;34m\u001b[0m\n\u001b[1;32m      2\u001b[0m \u001b[0mmytup\u001b[0m \u001b[0;34m=\u001b[0m \u001b[0;34m(\u001b[0m\u001b[0;34m'name'\u001b[0m\u001b[0;34m)\u001b[0m\u001b[0;34m\u001b[0m\u001b[0;34m\u001b[0m\u001b[0m\n\u001b[1;32m      3\u001b[0m \u001b[0ma\u001b[0m \u001b[0;34m=\u001b[0m \u001b[0;34m{\u001b[0m\u001b[0;34m'name'\u001b[0m\u001b[0;34m:\u001b[0m\u001b[0;34m'John'\u001b[0m\u001b[0;34m,\u001b[0m \u001b[0;34m'email'\u001b[0m\u001b[0;34m:\u001b[0m\u001b[0;34m'jrw@mit.edu'\u001b[0m\u001b[0;34m}\u001b[0m\u001b[0;34m\u001b[0m\u001b[0;34m\u001b[0m\u001b[0m\n\u001b[0;32m----> 4\u001b[0;31m \u001b[0ma\u001b[0m\u001b[0;34m.\u001b[0m\u001b[0mmytup\u001b[0m\u001b[0;34m[\u001b[0m\u001b[0;36m0\u001b[0m\u001b[0;34m]\u001b[0m\u001b[0;34m\u001b[0m\u001b[0;34m\u001b[0m\u001b[0m\n\u001b[0m\u001b[1;32m      5\u001b[0m \u001b[0;34m\u001b[0m\u001b[0m\n",
      "\u001b[0;31mAttributeError\u001b[0m: 'dict' object has no attribute 'mytup'"
     ]
    }
   ],
   "source": [
    "# Dictionary\n",
    "mytup = ('name')\n",
    "a = {'name':'John', 'email':'jrw@mit.edu'}\n",
    "a.mytup[0]\n",
    "\n"
   ]
  },
  {
   "cell_type": "code",
   "execution_count": 1,
   "metadata": {},
   "outputs": [
    {
     "ename": "NameError",
     "evalue": "name 'a' is not defined",
     "output_type": "error",
     "traceback": [
      "\u001b[0;31m------------------------------------------------------------------------\u001b[0m",
      "\u001b[0;31mNameError\u001b[0m                              Traceback (most recent call last)",
      "\u001b[0;32m<ipython-input-1-63b2edbcff7a>\u001b[0m in \u001b[0;36m<module>\u001b[0;34m\u001b[0m\n\u001b[1;32m     14\u001b[0m \u001b[0;34m\u001b[0m\u001b[0m\n\u001b[1;32m     15\u001b[0m \u001b[0mp\u001b[0m \u001b[0;34m=\u001b[0m \u001b[0;34m(\u001b[0m\u001b[0;34m'A'\u001b[0m\u001b[0;34m,\u001b[0m\u001b[0;34m'B'\u001b[0m\u001b[0;34m,\u001b[0m\u001b[0;34m'C'\u001b[0m\u001b[0;34m)\u001b[0m\u001b[0;34m\u001b[0m\u001b[0;34m\u001b[0m\u001b[0m\n\u001b[0;32m---> 16\u001b[0;31m \u001b[0ma\u001b[0m\u001b[0;34m[\u001b[0m\u001b[0mp\u001b[0m\u001b[0;34m]\u001b[0m \u001b[0;34m=\u001b[0m \u001b[0;36m999\u001b[0m\u001b[0;34m\u001b[0m\u001b[0;34m\u001b[0m\u001b[0m\n\u001b[0m\u001b[1;32m     17\u001b[0m \u001b[0ma\u001b[0m\u001b[0;34m[\u001b[0m\u001b[0mp\u001b[0m\u001b[0;34m]\u001b[0m \u001b[0;34m=\u001b[0m \u001b[0;36m767\u001b[0m\u001b[0;34m\u001b[0m\u001b[0;34m\u001b[0m\u001b[0m\n\u001b[1;32m     18\u001b[0m \u001b[0;32mfor\u001b[0m \u001b[0mkey\u001b[0m \u001b[0;32min\u001b[0m \u001b[0ma\u001b[0m\u001b[0;34m:\u001b[0m\u001b[0;34m\u001b[0m\u001b[0;34m\u001b[0m\u001b[0m\n",
      "\u001b[0;31mNameError\u001b[0m: name 'a' is not defined"
     ]
    }
   ],
   "source": [
    "# tuple\n",
    "\n",
    "\n",
    "\n",
    "\n",
    "\n",
    "\n",
    "\n",
    "\n",
    "\n",
    "\n",
    "\n",
    "\n",
    "\n",
    "p = ('A','B','C')\n",
    "a[p] = 999\n",
    "a[p] = 767\n",
    "for key in a:\n",
    "    print(a[key])"
   ]
  },
  {
   "cell_type": "code",
   "execution_count": null,
   "metadata": {},
   "outputs": [],
   "source": [
    "# set\n",
    "a ={'alpha','beta','kappa'}\n",
    "a.add('gamma')\n",
    "if 'beta' in a:\n",
    "    print(a)\n",
    "\n",
    "b = [1,2,3]\n",
    "c = set(b)\n",
    "c"
   ]
  },
  {
   "cell_type": "code",
   "execution_count": 21,
   "metadata": {},
   "outputs": [
    {
     "data": {
      "text/plain": [
       "[[-2, 'A', 2], [-2, 'A', 2]]"
      ]
     },
     "execution_count": 21,
     "metadata": {},
     "output_type": "execute_result"
    }
   ],
   "source": [
    "# Lists\n",
    "a = [1, 'A', 2]\n",
    "b = [a, a]\n",
    "a[0] = -2\n",
    "b"
   ]
  },
  {
   "cell_type": "code",
   "execution_count": 18,
   "metadata": {},
   "outputs": [
    {
     "name": "stdout",
     "output_type": "stream",
     "text": [
      "[[4, 5, 6]]\n"
     ]
    },
    {
     "data": {
      "text/plain": [
       "[[1, 2, 3], [-9, 5, 6]]"
      ]
     },
     "execution_count": 18,
     "metadata": {},
     "output_type": "execute_result"
    }
   ],
   "source": [
    "# 2-D Lists\n",
    "a = [[1,2,3],[4,5,6]]\n",
    "b"
   ]
  },
  {
   "cell_type": "code",
   "execution_count": 7,
   "metadata": {},
   "outputs": [
    {
     "data": {
      "text/plain": [
       "array([[2, 3],\n",
       "       [5, 6]])"
      ]
     },
     "execution_count": 7,
     "metadata": {},
     "output_type": "execute_result"
    }
   ],
   "source": [
    "import numpy as np\n",
    "\n",
    "a = np.array([[1,2,3],[4,5,6]])\n",
    "b = a[0:3,1:3]\n",
    "b"
   ]
  },
  {
   "cell_type": "markdown",
   "metadata": {},
   "source": [
    "### Python Exercise Starter Code"
   ]
  },
  {
   "cell_type": "code",
   "execution_count": 37,
   "metadata": {},
   "outputs": [
    {
     "data": {
      "text/plain": [
       "['There',\n",
       " 'were',\n",
       " 'many',\n",
       " 'people',\n",
       " 'at',\n",
       " 'the',\n",
       " 'theatre',\n",
       " 'and',\n",
       " 'the',\n",
       " 'crowd',\n",
       " 'cheered',\n",
       " 'as',\n",
       " 'the',\n",
       " 'band',\n",
       " 'started',\n",
       " 'playing',\n",
       " 'a',\n",
       " 'slow',\n",
       " 'waltz']"
      ]
     },
     "execution_count": 37,
     "metadata": {},
     "output_type": "execute_result"
    }
   ],
   "source": [
    "# list out all the words in this sentence\n",
    "s = 'There were many people at the theatre and the crowd cheered as the band started playing a slow waltz'\n",
    "myList = \n",
    "myList\n"
   ]
  },
  {
   "cell_type": "code",
   "execution_count": 39,
   "metadata": {},
   "outputs": [
    {
     "data": {
      "text/plain": [
       "17"
      ]
     },
     "execution_count": 39,
     "metadata": {},
     "output_type": "execute_result"
    }
   ],
   "source": [
    "# How many unique words are there. Hint use a python set\n",
    "mySet = "
   ]
  },
  {
   "cell_type": "code",
   "execution_count": 44,
   "metadata": {},
   "outputs": [
    {
     "data": {
      "text/plain": [
       "{'decem': 2,\n",
       " 'urnae': 3,\n",
       " 'pendent': 3,\n",
       " 'ex': 6,\n",
       " 'muro': 5,\n",
       " 'si': 2,\n",
       " 'forte': 2,\n",
       " 'una': 3,\n",
       " 'urna': 5,\n",
       " 'cadit': 2,\n",
       " 'ad': 2,\n",
       " 'terram': 2,\n",
       " 'iam': 2,\n",
       " 'novem': 1,\n",
       " 'pendet': 3,\n",
       " 'murouna': 1,\n",
       " 'nulla': 1}"
      ]
     },
     "execution_count": 44,
     "metadata": {},
     "output_type": "execute_result"
    }
   ],
   "source": [
    "# make a dictionary so the key is every unique word in the string 'latin'\n",
    "# and the value is the number of times it occurs eg d = {'decem':2, 'urnae':3,'ex':5}\n",
    "# strip out the ',' commas so they don't interfere with the words\n",
    "\n",
    "latin = 'decem urnae pendent ex muro, decem urnae pendent ex muro, si forte una urna cadit ad terram, iam novem urnae pendent ex muro, una urna pendet ex muro,una urna pendet ex muro, si forte una urna cadit ad terram, iam nulla urna pendet ex muro'\n",
    "words = {}\n",
    "\n",
    "#\n",
    "# Enter code here\n",
    "#\n",
    "words\n"
   ]
  },
  {
   "cell_type": "code",
   "execution_count": 46,
   "metadata": {},
   "outputs": [
    {
     "data": {
      "text/plain": [
       "[[0, 1, 2, 3, 4, 5, 6, 7],\n",
       " [8, 9, 10, 11, 12, 13, 14, 15],\n",
       " [16, 17, 18, 19, 20, 21, 22, 23],\n",
       " [24, 25, 26, 27, 28, 29, 30, 31],\n",
       " [32, 33, 34, 35, 36, 37, 38, 39],\n",
       " [40, 41, 42, 43, 44, 45, 46, 47],\n",
       " [48, 49, 50, 51, 52, 53, 54, 55],\n",
       " [56, 57, 58, 59, 60, 61, 62, 63]]"
      ]
     },
     "execution_count": 46,
     "metadata": {},
     "output_type": "execute_result"
    }
   ],
   "source": [
    "# create a 2D list so that it has the numbers 0-63 in its columns and rows as shown\n",
    "mat = list(range(0,64))\n",
    "def makeMatrix(a,n1,n2):\n",
    "#\n",
    "# Enter code here\n",
    "#\n",
    "    return M\n",
    "\n",
    "A = makeMatrix(mat,8,8)\n",
    "A"
   ]
  },
  {
   "cell_type": "markdown",
   "metadata": {},
   "source": [
    "# Answers"
   ]
  },
  {
   "cell_type": "code",
   "execution_count": 29,
   "metadata": {},
   "outputs": [
    {
     "data": {
      "text/plain": [
       "['There',\n",
       " 'were',\n",
       " 'many',\n",
       " 'people',\n",
       " 'at',\n",
       " 'the',\n",
       " 'theatre',\n",
       " 'and',\n",
       " 'the',\n",
       " 'crowd',\n",
       " 'cheered',\n",
       " 'as',\n",
       " 'the',\n",
       " 'band',\n",
       " 'started',\n",
       " 'playing',\n",
       " 'a',\n",
       " 'slow',\n",
       " 'waltz']"
      ]
     },
     "execution_count": 29,
     "metadata": {},
     "output_type": "execute_result"
    }
   ],
   "source": [
    "# Count the number of words in this sentence\n",
    "s = 'There were many people at the theatre and the crowd cheered as the band started playing a slow waltz'\n",
    "myList = s.split(' ')\n",
    "myList"
   ]
  },
  {
   "cell_type": "code",
   "execution_count": 18,
   "metadata": {},
   "outputs": [
    {
     "data": {
      "text/plain": [
       "17"
      ]
     },
     "execution_count": 18,
     "metadata": {},
     "output_type": "execute_result"
    }
   ],
   "source": [
    "# How many unique words are there\n",
    "mySet = set(myList)\n",
    "len(mySet)"
   ]
  },
  {
   "cell_type": "code",
   "execution_count": 27,
   "metadata": {},
   "outputs": [
    {
     "data": {
      "text/plain": [
       "{'decem': 2,\n",
       " 'urnae': 3,\n",
       " 'pendent': 3,\n",
       " 'ex': 6,\n",
       " 'muro': 5,\n",
       " 'si': 2,\n",
       " 'forte': 2,\n",
       " 'una': 3,\n",
       " 'urna': 5,\n",
       " 'cadit': 2,\n",
       " 'ad': 2,\n",
       " 'terram': 2,\n",
       " 'iam': 2,\n",
       " 'novem': 1,\n",
       " 'pendet': 3,\n",
       " 'murouna': 1,\n",
       " 'nulla': 1}"
      ]
     },
     "execution_count": 27,
     "metadata": {},
     "output_type": "execute_result"
    }
   ],
   "source": [
    "# make a dictionary so the key is every unique word in the string 'latin'\n",
    "# and the value is the number of times it occurs eg d = {'decem':2, 'urnae':3,'ex':5}\n",
    "# strip out the ',' commas so they don't interfere with the words\n",
    "\n",
    "latin = 'decem urnae pendent ex muro, decem urnae pendent ex muro, si forte una urna cadit ad terram, iam novem urnae pendent ex muro, una urna pendet ex muro,una urna pendet ex muro, si forte una urna cadit ad terram, iam nulla urna pendet ex muro'\n",
    "latin = latin.replace(',','')\n",
    "latin = latin.split(' ')\n",
    "words = {}\n",
    "for word in latin:\n",
    "    if word in words: words[word] += 1\n",
    "    else: words[word] = 1\n",
    "words"
   ]
  },
  {
   "cell_type": "code",
   "execution_count": 25,
   "metadata": {},
   "outputs": [
    {
     "data": {
      "text/plain": [
       "[[0, 1, 2, 3, 4, 5, 6, 7],\n",
       " [8, 9, 10, 11, 12, 13, 14, 15],\n",
       " [16, 17, 18, 19, 20, 21, 22, 23],\n",
       " [24, 25, 26, 27, 28, 29, 30, 31],\n",
       " [32, 33, 34, 35, 36, 37, 38, 39],\n",
       " [40, 41, 42, 43, 44, 45, 46, 47],\n",
       " [48, 49, 50, 51, 52, 53, 54, 55],\n",
       " [56, 57, 58, 59, 60, 61, 62, 63]]"
      ]
     },
     "execution_count": 25,
     "metadata": {},
     "output_type": "execute_result"
    }
   ],
   "source": [
    "# create a 2D list so that it has the numbers 0-63 in its columns and rows as shown\n",
    "mat = list(range(0,64))\n",
    "def makeMatrix(a,n1,n2):\n",
    "    M = []\n",
    "    count = 0\n",
    "    for row in range(0,n1):\n",
    "        r = []\n",
    "        for col in range(0,n2):\n",
    "            r.append(a[count])\n",
    "            count += 1\n",
    "        M.append(r)\n",
    "    return M\n",
    "\n",
    "A = makeMatrix(mat,8,8)\n",
    "\n",
    "A"
   ]
  },
  {
   "cell_type": "code",
   "execution_count": null,
   "metadata": {},
   "outputs": [],
   "source": []
  },
  {
   "cell_type": "code",
   "execution_count": null,
   "metadata": {},
   "outputs": [],
   "source": []
  }
 ],
 "metadata": {
  "kernelspec": {
   "display_name": "Python 3",
   "language": "python",
   "name": "python3"
  },
  "language_info": {
   "codemirror_mode": {
    "name": "ipython",
    "version": 3
   },
   "file_extension": ".py",
   "mimetype": "text/x-python",
   "name": "python",
   "nbconvert_exporter": "python",
   "pygments_lexer": "ipython3",
   "version": "3.9.0"
  }
 },
 "nbformat": 4,
 "nbformat_minor": 4
}

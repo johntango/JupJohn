{
 "cells": [
  {
   "cell_type": "markdown",
   "metadata": {},
   "source": [
    "### Python Exercise Starter Code"
   ]
  },
  {
   "cell_type": "code",
   "execution_count": 37,
   "metadata": {},
   "outputs": [
    {
     "data": {
      "text/plain": [
       "['There',\n",
       " 'were',\n",
       " 'many',\n",
       " 'people',\n",
       " 'at',\n",
       " 'the',\n",
       " 'theatre',\n",
       " 'and',\n",
       " 'the',\n",
       " 'crowd',\n",
       " 'cheered',\n",
       " 'as',\n",
       " 'the',\n",
       " 'band',\n",
       " 'started',\n",
       " 'playing',\n",
       " 'a',\n",
       " 'slow',\n",
       " 'waltz']"
      ]
     },
     "execution_count": 37,
     "metadata": {},
     "output_type": "execute_result"
    }
   ],
   "source": [
    "# list out all the words in this sentence\n",
    "s = 'There were many people at the theatre and the crowd cheered as the band started playing a slow waltz'\n",
    "myList = \n",
    "myList\n"
   ]
  },
  {
   "cell_type": "code",
   "execution_count": 39,
   "metadata": {},
   "outputs": [
    {
     "data": {
      "text/plain": [
       "17"
      ]
     },
     "execution_count": 39,
     "metadata": {},
     "output_type": "execute_result"
    }
   ],
   "source": [
    "# How many unique words are there. Hint use a python set\n",
    "mySet = "
   ]
  },
  {
   "cell_type": "code",
   "execution_count": 44,
   "metadata": {},
   "outputs": [
    {
     "data": {
      "text/plain": [
       "{'decem': 2,\n",
       " 'urnae': 3,\n",
       " 'pendent': 3,\n",
       " 'ex': 6,\n",
       " 'muro': 5,\n",
       " 'si': 2,\n",
       " 'forte': 2,\n",
       " 'una': 3,\n",
       " 'urna': 5,\n",
       " 'cadit': 2,\n",
       " 'ad': 2,\n",
       " 'terram': 2,\n",
       " 'iam': 2,\n",
       " 'novem': 1,\n",
       " 'pendet': 3,\n",
       " 'murouna': 1,\n",
       " 'nulla': 1}"
      ]
     },
     "execution_count": 44,
     "metadata": {},
     "output_type": "execute_result"
    }
   ],
   "source": [
    "# make a dictionary so the key is every unique word in the string 'latin'\n",
    "# and the value is the number of times it occurs eg d = {'decem':2, 'urnae':3,'ex':5}\n",
    "# strip out the ',' commas so they don't interfere with the words\n",
    "\n",
    "latin = 'decem urnae pendent ex muro, decem urnae pendent ex muro, si forte una urna cadit ad terram, iam novem urnae pendent ex muro, una urna pendet ex muro,una urna pendet ex muro, si forte una urna cadit ad terram, iam nulla urna pendet ex muro'\n",
    "words = {}\n",
    "\n",
    "#\n",
    "# Enter code here\n",
    "#\n",
    "words\n"
   ]
  },
  {
   "cell_type": "code",
   "execution_count": 46,
   "metadata": {},
   "outputs": [
    {
     "data": {
      "text/plain": [
       "[[0, 1, 2, 3, 4, 5, 6, 7],\n",
       " [8, 9, 10, 11, 12, 13, 14, 15],\n",
       " [16, 17, 18, 19, 20, 21, 22, 23],\n",
       " [24, 25, 26, 27, 28, 29, 30, 31],\n",
       " [32, 33, 34, 35, 36, 37, 38, 39],\n",
       " [40, 41, 42, 43, 44, 45, 46, 47],\n",
       " [48, 49, 50, 51, 52, 53, 54, 55],\n",
       " [56, 57, 58, 59, 60, 61, 62, 63]]"
      ]
     },
     "execution_count": 46,
     "metadata": {},
     "output_type": "execute_result"
    }
   ],
   "source": [
    "# create a 2D list so that it has the numbers 0-63 in its columns and rows as shown\n",
    "mat = list(range(0,64))\n",
    "def makeMatrix(a,n1,n2):\n",
    "#\n",
    "# Enter code here\n",
    "#\n",
    "    return M\n",
    "\n",
    "A = makeMatrix(mat,8,8)\n",
    "A"
   ]
  },
  {
   "cell_type": "markdown",
   "metadata": {},
   "source": [
    "# Answers"
   ]
  },
  {
   "cell_type": "code",
   "execution_count": 29,
   "metadata": {},
   "outputs": [
    {
     "data": {
      "text/plain": [
       "['There',\n",
       " 'were',\n",
       " 'many',\n",
       " 'people',\n",
       " 'at',\n",
       " 'the',\n",
       " 'theatre',\n",
       " 'and',\n",
       " 'the',\n",
       " 'crowd',\n",
       " 'cheered',\n",
       " 'as',\n",
       " 'the',\n",
       " 'band',\n",
       " 'started',\n",
       " 'playing',\n",
       " 'a',\n",
       " 'slow',\n",
       " 'waltz']"
      ]
     },
     "execution_count": 29,
     "metadata": {},
     "output_type": "execute_result"
    }
   ],
   "source": [
    "# Count the number of words in this sentence\n",
    "s = 'There were many people at the theatre and the crowd cheered as the band started playing a slow waltz'\n",
    "myList = s.split(' ')\n",
    "myList"
   ]
  },
  {
   "cell_type": "code",
   "execution_count": 18,
   "metadata": {},
   "outputs": [
    {
     "data": {
      "text/plain": [
       "17"
      ]
     },
     "execution_count": 18,
     "metadata": {},
     "output_type": "execute_result"
    }
   ],
   "source": [
    "# How many unique words are there\n",
    "mySet = set(myList)\n",
    "len(mySet)"
   ]
  },
  {
   "cell_type": "code",
   "execution_count": 27,
   "metadata": {},
   "outputs": [
    {
     "data": {
      "text/plain": [
       "{'decem': 2,\n",
       " 'urnae': 3,\n",
       " 'pendent': 3,\n",
       " 'ex': 6,\n",
       " 'muro': 5,\n",
       " 'si': 2,\n",
       " 'forte': 2,\n",
       " 'una': 3,\n",
       " 'urna': 5,\n",
       " 'cadit': 2,\n",
       " 'ad': 2,\n",
       " 'terram': 2,\n",
       " 'iam': 2,\n",
       " 'novem': 1,\n",
       " 'pendet': 3,\n",
       " 'murouna': 1,\n",
       " 'nulla': 1}"
      ]
     },
     "execution_count": 27,
     "metadata": {},
     "output_type": "execute_result"
    }
   ],
   "source": [
    "# make a dictionary so the key is every unique word in the string 'latin'\n",
    "# and the value is the number of times it occurs eg d = {'decem':2, 'urnae':3,'ex':5}\n",
    "# strip out the ',' commas so they don't interfere with the words\n",
    "\n",
    "latin = 'decem urnae pendent ex muro, decem urnae pendent ex muro, si forte una urna cadit ad terram, iam novem urnae pendent ex muro, una urna pendet ex muro,una urna pendet ex muro, si forte una urna cadit ad terram, iam nulla urna pendet ex muro'\n",
    "latin = latin.replace(',','')\n",
    "latin = latin.split(' ')\n",
    "words = {}\n",
    "for word in latin:\n",
    "    if word in words: words[word] += 1\n",
    "    else: words[word] = 1\n",
    "words"
   ]
  },
  {
   "cell_type": "code",
   "execution_count": 25,
   "metadata": {},
   "outputs": [
    {
     "data": {
      "text/plain": [
       "[[0, 1, 2, 3, 4, 5, 6, 7],\n",
       " [8, 9, 10, 11, 12, 13, 14, 15],\n",
       " [16, 17, 18, 19, 20, 21, 22, 23],\n",
       " [24, 25, 26, 27, 28, 29, 30, 31],\n",
       " [32, 33, 34, 35, 36, 37, 38, 39],\n",
       " [40, 41, 42, 43, 44, 45, 46, 47],\n",
       " [48, 49, 50, 51, 52, 53, 54, 55],\n",
       " [56, 57, 58, 59, 60, 61, 62, 63]]"
      ]
     },
     "execution_count": 25,
     "metadata": {},
     "output_type": "execute_result"
    }
   ],
   "source": [
    "# create a 2D list so that it has the numbers 0-63 in its columns and rows as shown\n",
    "mat = list(range(0,64))\n",
    "def makeMatrix(a,n1,n2):\n",
    "    M = []\n",
    "    count = 0\n",
    "    for row in range(0,n1):\n",
    "        r = []\n",
    "        for col in range(0,n2):\n",
    "            r.append(a[count])\n",
    "            count += 1\n",
    "        M.append(r)\n",
    "    return M\n",
    "\n",
    "A = makeMatrix(mat,8,8)\n",
    "\n",
    "A"
   ]
  },
  {
   "cell_type": "code",
   "execution_count": null,
   "metadata": {},
   "outputs": [],
   "source": []
  },
  {
   "cell_type": "code",
   "execution_count": null,
   "metadata": {},
   "outputs": [],
   "source": []
  }
 ],
 "metadata": {
  "kernelspec": {
   "display_name": "Python 3",
   "language": "python",
   "name": "python3"
  },
  "language_info": {
   "codemirror_mode": {
    "name": "ipython",
    "version": 3
   },
   "file_extension": ".py",
   "mimetype": "text/x-python",
   "name": "python",
   "nbconvert_exporter": "python",
   "pygments_lexer": "ipython3",
   "version": "3.9.0"
  }
 },
 "nbformat": 4,
 "nbformat_minor": 4
}

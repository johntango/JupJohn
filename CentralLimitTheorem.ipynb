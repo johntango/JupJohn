{
 "cells": [
  {
   "cell_type": "code",
   "execution_count": 19,
   "metadata": {},
   "outputs": [],
   "source": [
    "import numpy as np\n",
    "import matplotlib.pyplot as plt\n",
    "import pandas as pd\n",
    "import seaborn as sns"
   ]
  },
  {
   "cell_type": "markdown",
   "metadata": {},
   "source": [
    "mean $$ \\mu_{x} = \\frac{\\sum x}{N}  $$\n",
    "\n",
    "Polulation Variance $$ \\sigma^{2} = \\frac{\\sum(x -\\mu_{x})^{2}}{N}  $$\n",
    "\n",
    "Unbiased Sample Variance $$ \\sigma^{2} = \\frac{\\sum(x -\\mu_{x})^{2}}{N-1}  $$\n"
   ]
  },
  {
   "cell_type": "code",
   "execution_count": 31,
   "metadata": {},
   "outputs": [
    {
     "name": "stdout",
     "output_type": "stream",
     "text": [
      "Pop Mean: 0.5054\n",
      "Pop Variance S2: 0.24997083999999994\n",
      "Sample Unbiased Variance S2: 0.24999583958395835\n"
     ]
    }
   ],
   "source": [
    "# flip coin and calculate mean and variance\n",
    "s = np.random.randint(0,2,10000)\n",
    "\n",
    "Va = s.var()                       # population variance\n",
    "Sv = s.var(ddof = 1)\n",
    "print(f'Pop Mean: {s.mean()}')\n",
    "print(f'Pop Variance S2: {Va}')\n",
    "print(f'Sample Unbiased Variance S2: {Sv}')"
   ]
  },
  {
   "cell_type": "code",
   "execution_count": null,
   "metadata": {},
   "outputs": [],
   "source": []
  },
  {
   "cell_type": "code",
   "execution_count": null,
   "metadata": {},
   "outputs": [],
   "source": [
    "\n"
   ]
  },
  {
   "cell_type": "code",
   "execution_count": null,
   "metadata": {},
   "outputs": [],
   "source": []
  },
  {
   "cell_type": "markdown",
   "metadata": {},
   "source": [
    "### mean and unbiased variance\n",
    "\n",
    "\n",
    "$$ \\sigma_x = \\sqrt{ \\frac{\\sum(x -\\mu_{x})*(x -\\mu_{x})}{N} } = \\sqrt{\\frac{\\sum X*X}{N}}$$\n",
    "#### Note that the values range between +1 and -1"
   ]
  },
  {
   "cell_type": "markdown",
   "metadata": {},
   "source": [
    "\n"
   ]
  },
  {
   "cell_type": "code",
   "execution_count": 14,
   "metadata": {},
   "outputs": [
    {
     "name": "stdout",
     "output_type": "stream",
     "text": [
      "Pop Mean: 0.5104\n",
      "Pop Variance S2: 0.24989184000000006\n",
      "Sample Unbiased Variance S2: 0.24991683168316836\n"
     ]
    }
   ],
   "source": []
  },
  {
   "cell_type": "code",
   "execution_count": 42,
   "metadata": {},
   "outputs": [
    {
     "name": "stdout",
     "output_type": "stream",
     "text": [
      "Pop Mean: 3.49706\n",
      "Pop Variance S2: 2.9185113564\n",
      "Sample Unbiased Variance S2: 2.918540541805418\n"
     ]
    }
   ],
   "source": [
    "# roll 6 sided dice and calculate mean and variance\n",
    "s = np.random.randint(1,7,100000)\n",
    "Va = s.var()                       # population variance\n",
    "Sv = s.var(ddof=1)\n",
    "print(f'Pop Mean: {s.mean()}')\n",
    "print(f'Pop Variance S2: {Va}')\n",
    "print(f'Sample Unbiased Variance S2: {Sv}')"
   ]
  },
  {
   "cell_type": "markdown",
   "metadata": {},
   "source": [
    "For trials where we take M tickets  \n",
    "Trial Mean $$ \\mu_{x} = \\frac{\\sum x}{M}  $$\n",
    "\n",
    "Sample Distribution Variance is Population Variance divided by our M  \n",
    "$$ s^{2} = \\frac{\\sigma^{2}}{M}  $$"
   ]
  },
  {
   "cell_type": "code",
   "execution_count": 52,
   "metadata": {},
   "outputs": [
    {
     "name": "stdout",
     "output_type": "stream",
     "text": [
      "Pop Variance S2: <built-in method var of numpy.ndarray object at 0x7fc51f371ee0>\n",
      "var Sample: 0.6433439999999999\n",
      "var Sample: 0.14919623999999998\n",
      "var Sample: 0.0320176064\n",
      "Best Estimate N*S2_sample : [3.2167199999999996, 2.9839247999999996, 3.2017606400000003]\n",
      "Unbiased Estimate :  3.141818181818182\n",
      "Biased Estimate :    3.1104000000000003\n"
     ]
    },
    {
     "data": {
      "image/png": "[encoded data removed]",
      "text/plain": [
       "<Figure size 432x288 with 1 Axes>"
      ]
     },
     "metadata": {
      "needs_background": "light"
     },
     "output_type": "display_data"
    }
   ],
   "source": [
    "#  Central Limit Theorem Applied to Rolls of 6 sided dice \n",
    "#  Sample from Box taking n Tickets - then calc. mean and variance \n",
    "s = np.random.randint(1,7,100000)  # Create the box of tickets                       # population variance\n",
    "print(f'Pop Variance S2: {s.var}')\n",
    "N = 500                            # number of trials  \n",
    "V = []\n",
    "\n",
    "def getDistribution(s,M,N):        # args(samplePop, samplesize, num_samples)\n",
    "    samples = []\n",
    "    np.random.seed(seed=3)\n",
    "    for i in np.arange(N):\n",
    "        sample = np.random.choice(s,M).sum()/M\n",
    "        samples.append(sample)\n",
    "    return samples\n",
    "\n",
    "for M in [5,20,100]:    # Change the sample size and loop\n",
    "    S = getDistribution(s,M,N)     \n",
    "    s2 = np.array(S).var(ddof=0)   # Variance of the mean for sample\n",
    "    V.append({M:s2})               # Variance of Mean ve goes down with sample size  ve * i = pop sample variancee\n",
    "    #plt.hist(S, bins=20, density=True, alpha = 0.2)\n",
    "    sns.kdeplot(data=S)\n",
    "    print(f'var Sample: {s2}')\n",
    "                                   # print out the sample variance * N (sample number)\n",
    "print(f'Best Estimate N*S2_sample : {[list(var.keys())[0] * list(var.values())[0]  for index, var in enumerate(V)]}')\n",
    "\n",
    "testSample = np.array(np.random.choice(s,100))\n",
    "print(f'Unbiased Estimate :  {testSample.var(ddof =1)}')\n",
    "print(f'Biased Estimate :    {testSample.var(ddof =0)}')\n"
   ]
  },
  {
   "cell_type": "code",
   "execution_count": null,
   "metadata": {},
   "outputs": [],
   "source": [
    "s = np.random.randint(1,7,100)\n",
    "N = 1000   # number of times we take sample\n",
    "n = 3     # sample size \n",
    "samples = []\n",
    "for i in np.arange(N):\n",
    "    sample = np.random.choice(s,n).sum()/n\n",
    "    samples.append(sample)\n",
    "plt.hist(samples, bins=10, density=True, alpha = 0.3)\n",
    "sns.kdeplot(data=samples)"
   ]
  },
  {
   "cell_type": "code",
   "execution_count": null,
   "metadata": {},
   "outputs": [],
   "source": [
    "# understand how scaling a*x + b  affects mean and variance\n",
    "# N(mu,sigma**2)   =>  N(a*mu + b,  a**2 * sigma**2)\n",
    "n = 4                           # number in sample\n",
    "np.random.seed(seed = 1)\n",
    "s = np.random.randint(1,7,n)    # get sample \n",
    "a = 1                           # scale factor = a\n",
    "b = 0                           # shift = b\n",
    "s1 = s + s\n",
    "print(f'sample: {s} mean: {s.mean()} variance: {s.var()}' )\n",
    "print(f'ScaleS: {s1} mean: {s1.mean()} variance: {s1.var()}' )\n",
    "\n"
   ]
  },
  {
   "cell_type": "code",
   "execution_count": null,
   "metadata": {},
   "outputs": [],
   "source": [
    "\n"
   ]
  },
  {
   "cell_type": "code",
   "execution_count": 231,
   "metadata": {},
   "outputs": [
    {
     "data": {
      "text/plain": [
       "[<matplotlib.lines.Line2D at 0x7f926f31be50>]"
      ]
     },
     "execution_count": 231,
     "metadata": {},
     "output_type": "execute_result"
    },
    {
     "data": {
      "image/png": "[encoded data removed]",
      "text/plain": [
       "<Figure size 432x288 with 1 Axes>"
      ]
     },
     "metadata": {
      "needs_background": "light"
     },
     "output_type": "display_data"
    }
   ],
   "source": [
    "variance = [list(v.values())[0]   for i,v in enumerate(V)]\n",
    "plt.plot(variance)"
   ]
  },
  {
   "cell_type": "code",
   "execution_count": 242,
   "metadata": {},
   "outputs": [
    {
     "name": "stdout",
     "output_type": "stream",
     "text": [
      " mean1: 1.0184034691225057 variance: 1.0099690431382584\n",
      " mean2: 1.0024294617572203 variance: 0.9657788936064772\n",
      " mean12: 2.0208329308797257 variance2: 1.93701802830615\n"
     ]
    },
    {
     "data": {
      "text/plain": [
       "(array([0.3332, 0.    , 0.    , 0.    , 0.3198, 0.    , 0.    , 0.    ,\n",
       "        0.325 , 0.    , 0.    , 0.    , 0.3392, 0.    , 0.    , 0.    ,\n",
       "        0.3364, 0.    , 0.    , 0.3464]),\n",
       " array([ 2. ,  2.5,  3. ,  3.5,  4. ,  4.5,  5. ,  5.5,  6. ,  6.5,  7. ,\n",
       "         7.5,  8. ,  8.5,  9. ,  9.5, 10. , 10.5, 11. , 11.5, 12. ]),\n",
       " <BarContainer object of 20 artists>)"
      ]
     },
     "execution_count": 242,
     "metadata": {},
     "output_type": "execute_result"
    },
    {
     "data": {
      "image/png": "[encoded data removed]",
      "text/plain": [
       "<Figure size 432x288 with 1 Axes>"
      ]
     },
     "metadata": {
      "needs_background": "light"
     },
     "output_type": "display_data"
    }
   ],
   "source": [
    "# what happens if we add two distributions\n",
    "mu = 1\n",
    "sigma = 1\n",
    "s1 = np.random.normal(mu,sigma, 1000)\n",
    "s2 = np.random.normal(mu,sigma, 1000)\n",
    "S = s1 + s2                 # be careful - what does numpy do here\n",
    "\n",
    "print(f' mean1: {s1.mean()} variance: {s1.var()}' )\n",
    "print(f' mean2: {s2.mean()} variance: {s2.var()}' )\n",
    "print(f' mean12: {S.mean()} variance2: {S.var()}' )\n",
    "\n",
    "#plt.hist(s, bins = 20, alpha = 0.2, density=True)\n",
    "plt.hist(s+s,bins = 20,  alpha = 0.2, density=True)"
   ]
  },
  {
   "cell_type": "code",
   "execution_count": 240,
   "metadata": {},
   "outputs": [
    {
     "name": "stdout",
     "output_type": "stream",
     "text": [
      "var1: 0.019679306645486623 var2: 0.019679306645486623\n"
     ]
    },
    {
     "data": {
      "image/png": "[encoded data removed]",
      "text/plain": [
       "<Figure size 432x288 with 1 Axes>"
      ]
     },
     "metadata": {
      "needs_background": "light"
     },
     "output_type": "display_data"
    }
   ],
   "source": [
    "#  Plot from CFD curve - be careful - are we sampling population at all here ?\n",
    "mu = 1\n",
    "sigma = 1.000\n",
    "N = 2\n",
    "def normal(x, mu, sigma):\n",
    "    c = 1/(sigma*np.sqrt(2*np.pi))\n",
    "    return c * np.exp( -0.5*(x - mu)*(x - mu)/(sigma*sigma))\n",
    "x = np.arange(-4,4,0.01)\n",
    "\n",
    "y = normal(x, mu, sigma)\n",
    "y1 = normal(x, mu, sigma)\n",
    "\n",
    "\n",
    "plt.plot(x,y)\n",
    "plt.plot(x,y + y1)\n",
    "\n",
    "print(f'var1: {y.var()} var2: {y1.var()}')\n"
   ]
  },
  {
   "cell_type": "code",
   "execution_count": null,
   "metadata": {},
   "outputs": [],
   "source": []
  },
  {
   "cell_type": "code",
   "execution_count": null,
   "metadata": {},
   "outputs": [],
   "source": []
  }
 ],
 "metadata": {
  "kernelspec": {
   "display_name": "Python 3",
   "language": "python",
   "name": "python3"
  },
  "language_info": {
   "codemirror_mode": {
    "name": "ipython",
    "version": 3
   },
   "file_extension": ".py",
   "mimetype": "text/x-python",
   "name": "python",
   "nbconvert_exporter": "python",
   "pygments_lexer": "ipython3",
   "version": "3.9.0"
  }
 },
 "nbformat": 4,
 "nbformat_minor": 4
}

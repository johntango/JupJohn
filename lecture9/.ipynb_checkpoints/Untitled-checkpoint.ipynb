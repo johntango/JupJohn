{
 "cells": [
  {
   "cell_type": "code",
   "execution_count": null,
   "metadata": {},
   "outputs": [],
   "source": [
    "# Student\n",
    "s1 = {'id':1, 'name':'Alice'}\n",
    "s2 = {'id':2, 'name':'Bob'}\n",
    "s3 = {'id':3, 'name':'Charles'}\n",
    "students ={'students':[s1, s2, s3]}"
   ]
  },
  {
   "cell_type": "code",
   "execution_count": null,
   "metadata": {},
   "outputs": [],
   "source": [
    "# Psets\n",
    "p1 = {'id':1, 'maxScore':100}\n",
    "p2 = {'id':2, 'maxScore':80}\n",
    "p2 = {'id':3, 'maxScore':120}\n",
    "psets = {'psets':[p1, p2, p3]}"
   ]
  },
  {
   "cell_type": "code",
   "execution_count": null,
   "metadata": {},
   "outputs": [],
   "source": [
    "# Grades\n",
    "g1 = {'sid': 1, 'pid': 1, 'score': 90}\n",
    "g2 = {'sid': 2, 'pid': 1, 'score': 95}\n",
    "g3 = {'sid': 1, 'pid': 2, 'score': 50}\n"
   ]
  }
 ],
 "metadata": {
  "kernelspec": {
   "display_name": "Python 3",
   "language": "python",
   "name": "python3"
  },
  "language_info": {
   "codemirror_mode": {
    "name": "ipython",
    "version": 3
   },
   "file_extension": ".py",
   "mimetype": "text/x-python",
   "name": "python",
   "nbconvert_exporter": "python",
   "pygments_lexer": "ipython3",
   "version": "3.9.0"
  }
 },
 "nbformat": 4,
 "nbformat_minor": 4
}

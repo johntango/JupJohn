{
 "cells": [
  {
   "cell_type": "markdown",
   "metadata": {},
   "source": [
    "# Data structures "
   ]
  },
  {
   "cell_type": "markdown",
   "metadata": {},
   "source": [
    "###  flat file using unique keys"
   ]
  },
  {
   "cell_type": "code",
   "execution_count": 3,
   "metadata": {},
   "outputs": [],
   "source": [
    "# db is a dictionary of lists named {students: [], psets: [], grades: []}\n",
    "def empty():\n",
    "    return {\"students\": [],\n",
    "            \"psets\": [],\n",
    "            \"grades\": []}\n",
    "# Add a new student to the database.\n",
    "def addStudent(db, student_id, student_name):   # students is a list of \n",
    "    db[\"students\"].append({\"id\": student_id,\n",
    "                           \"name\": student_name})\n",
    "# Add a new pset to the database.\n",
    "def addPset(db, pset_id, pset_total_points):\n",
    "    db[\"psets\"].append({\"id\": pset_id,\n",
    "                        \"points\": pset_total_points})\n",
    "# Record a student's grade on a pset.\n",
    "def addGrade(db, student_id, pset_id, points):\n",
    "    db[\"grades\"].append({\"student\": student_id,\n",
    "                         \"pset\": pset_id,\n",
    "                         \"points\": points})\n",
    "db = empty()"
   ]
  },
  {
   "cell_type": "code",
   "execution_count": 4,
   "metadata": {},
   "outputs": [
    {
     "name": "stdout",
     "output_type": "stream",
     "text": [
      "{'students': [], 'psets': [], 'grades': []}\n"
     ]
    }
   ],
   "source": [
    "print(db)"
   ]
  },
  {
   "cell_type": "code",
   "execution_count": 5,
   "metadata": {},
   "outputs": [
    {
     "name": "stdout",
     "output_type": "stream",
     "text": [
      "{'students': [{'id': 1, 'name': 'Alice'}, {'id': 2, 'name': 'Bob'}, {'id': 3, 'name': 'Charlie'}], 'psets': [{'id': 1, 'points': 10}, {'id': 2, 'points': 20}, {'id': 3, 'points': 30}], 'grades': [{'student': 1, 'pset': 1, 'points': 10}, {'student': 1, 'pset': 2, 'points': 18}, {'student': 1, 'pset': 3, 'points': 25}, {'student': 2, 'pset': 3, 'points': 15}, {'student': 3, 'pset': 3, 'points': 10}]}\n"
     ]
    }
   ],
   "source": [
    "# add data to db\n",
    "addStudent(db, 1, \"Alice\")\n",
    "addStudent(db, 2, \"Bob\")\n",
    "addStudent(db, 3, \"Charlie\")\n",
    "\n",
    "addPset(db, 1, 10)\n",
    "addPset(db, 2, 20)\n",
    "addPset(db, 3, 30)\n",
    "\n",
    "addGrade(db, 1, 1, 10)\n",
    "addGrade(db, 1, 2, 18)\n",
    "addGrade(db, 1, 3, 25)\n",
    "addGrade(db, 2, 3, 15)\n",
    "addGrade(db, 3, 3, 10)\n",
    "print(db)"
   ]
  },
  {
   "cell_type": "code",
   "execution_count": 40,
   "metadata": {},
   "outputs": [
    {
     "name": "stdout",
     "output_type": "stream",
     "text": [
      "{'students': [{'id': 1, 'name': 'Alice'}, {'id': 2, 'name': 'Bob'}, {'id': 3, 'name': 'Charlie'}], 'psets': [{'id': 1, 'points': 10}, {'id': 2, 'points': 20}, {'id': 3, 'points': 30}], 'grades': [{'student': 1, 'pset': 1, 'points': 10}, {'student': 1, 'pset': 2, 'points': 18}, {'student': 1, 'pset': 3, 'points': 25}, {'student': 2, 'pset': 3, 'points': 15}, {'student': 3, 'pset': 3, 'points': 10}]}\n"
     ]
    }
   ],
   "source": [
    "mydb = {'students': [{'id': 1, 'name': 'Alice'}, \n",
    "              {'id': 2, 'name': 'Bob'}, \n",
    "              {'id': 3, 'name': 'Charlie'}], \n",
    " 'psets': [{'id': 1, 'points': 10}, \n",
    "           {'id': 2, 'points': 20}, \n",
    "           {'id': 3, 'points': 30}], \n",
    " 'grades': [{'student': 1, 'pset': 1, 'points': 10}, \n",
    "            {'student': 1, 'pset': 2, 'points': 18}, \n",
    "            {'student': 1, 'pset': 3, 'points': 25}, \n",
    "            {'student': 2, 'pset': 3, 'points': 15}, \n",
    "            {'student': 3, 'pset': 3, 'points': 10}]}\n",
    "print(mydb)"
   ]
  },
  {
   "cell_type": "markdown",
   "metadata": {},
   "source": [
    "### try to look up a student name by Id\n"
   ]
  },
  {
   "cell_type": "code",
   "execution_count": 16,
   "metadata": {},
   "outputs": [
    {
     "name": "stdout",
     "output_type": "stream",
     "text": [
      "{'name': 'Bob'}\n"
     ]
    }
   ],
   "source": [
    "student_id = 2   # this search is O(N)\n",
    "print({\"name\": s['name'] for s in db['students'] if s[\"id\"] == student_id})"
   ]
  },
  {
   "cell_type": "code",
   "execution_count": 15,
   "metadata": {},
   "outputs": [
    {
     "name": "stdout",
     "output_type": "stream",
     "text": [
      "{'Alice': 25, 'Bob': 15, 'Charlie': 10}\n"
     ]
    }
   ],
   "source": [
    "# Return all grades on a pset, as a dictionary from student names to grades.\n",
    "# Notice that we're making it interesting by working with student names instead of IDs.\n",
    "# The grades table doesn't include student names directly!\n",
    "def gradesOnPset(db, pset_id):\n",
    "    return {student[\"name\"]: grade[\"points\"]\n",
    "            for grade in db[\"grades\"]\n",
    "            if grade[\"pset\"] == pset_id\n",
    "            for student in db[\"students\"]\n",
    "            if student[\"id\"] == grade[\"student\"]}\n",
    "print(gradesOnPset(db,3))"
   ]
  },
  {
   "cell_type": "code",
   "execution_count": 36,
   "metadata": {},
   "outputs": [
    {
     "name": "stdout",
     "output_type": "stream",
     "text": [
      "[{'id': 1, 'name': 'Alice', 'grade': 91.1}, {'id': 2, 'name': 'Bob', 'grade': 16.7}, {'id': 3, 'name': 'Charlie', 'grade': 11.1}]\n"
     ]
    }
   ],
   "source": [
    "# A small wrapper to give us a succinct way to express a lookup of a single value,\n",
    "# comprehension-style! \n",
    "def one(gen):\n",
    "    return next(gen, None)\n",
    "\n",
    "# To start with, let's implement a version of studentGrades that:\n",
    "# (1) includes zeroes for missing grades,\n",
    "# (2) divides by the point total for each pset, and\n",
    "# (3) returns a list of scores.\n",
    "# One more helper function is useful first.\n",
    "# Which grade did this student get on this pset?  (Returns None if no grade has been\n",
    "# recorded.)\n",
    "\n",
    "def gradeOn(db, student_id, pset_id):\n",
    "    return one(grade[\"points\"]\n",
    "               for grade in db[\"grades\"]\n",
    "               if grade[\"student\"] == student_id\n",
    "               if grade[\"pset\"] == pset_id)\n",
    "\n",
    "def gradeOnWeighted(db, student_id, pset):\n",
    "    grade = gradeOn(db, student_id, pset[\"id\"])\n",
    "    if grade == None:\n",
    "        return 0\n",
    "    else:\n",
    "        return grade * 1.0 / pset[\"points\"]\n",
    "        \n",
    "def studentGradesWeighted(db, student_id):\n",
    "    return [gradeOnWeighted(db, student_id, pset) for pset in db[\"psets\"]]\n",
    "\n",
    "# Next, computing the final grade of a student.\n",
    "def finalGradeOf(db, student_id):\n",
    "    grades = studentGradesWeighted(db, student_id)\n",
    "    return round(sum(grades) / len(grades) * 100, 1)\n",
    "\n",
    "# Finally, computing for all students.\n",
    "def finalGrades(db):\n",
    "    return [{\"id\": student[\"id\"],\"name\": student[\"name\"],\"grade\": finalGradeOf(db, student[\"id\"])} for student in db[\"students\"]]\n",
    "\n",
    "print(finalGrades(db))"
   ]
  },
  {
   "cell_type": "markdown",
   "metadata": {},
   "source": [
    "# Using Dictionaries"
   ]
  },
  {
   "cell_type": "code",
   "execution_count": 3,
   "metadata": {},
   "outputs": [
    {
     "name": "stdout",
     "output_type": "stream",
     "text": [
      "{'students': {1: 'Alice', 2: 'Bob', 3: 'Charlie'}, 'psets': {1: 10, 2: 20, 3: 30}, 'grades': {1: {1: 10, 2: 18, 3: 25}, 2: {3: 15}, 3: {3: 10}}}\n"
     ]
    }
   ],
   "source": [
    "# Grades are less obvious.  There are at least three reasonable dictionary choices:\n",
    "# lets use the one below where we go through two dictionaries using first student_id then pset_id as the keys\n",
    "#  [Student ID] |-> [Pset ID] |-> [Points]\n",
    "\n",
    "\n",
    "def empty():\n",
    "    return {\"students\": {},\n",
    "            \"psets\": {},\n",
    "            \"grades\": {}}\n",
    "db = empty()\n",
    "def addStudent(db, student_id, student_name):\n",
    "    db[\"students\"][student_id] = student_name\n",
    "    \n",
    "def addPset(db, pset_id, pset_total_points):\n",
    "    db[\"psets\"][pset_id] = pset_total_points\n",
    "\n",
    "def addGrade(db, student_id, pset_id, points):\n",
    "    if student_id not in db[\"grades\"]:\n",
    "        db[\"grades\"][student_id] = {}\n",
    "    db[\"grades\"][student_id][pset_id] = points  # this creates dictionary of psets for that student\n",
    "\n",
    "addStudent(db, 1, \"Alice\")\n",
    "addStudent(db, 2, \"Bob\")\n",
    "addStudent(db, 3, \"Charlie\")\n",
    "#          pset_id, max_score\n",
    "addPset(db, 1, 10)\n",
    "addPset(db, 2, 20)\n",
    "addPset(db, 3, 30)\n",
    "#          student_id, pset_id, value\n",
    "addGrade(db, 1, 1, 10)\n",
    "addGrade(db, 1, 2, 18)\n",
    "addGrade(db, 1, 3, 25)\n",
    "addGrade(db, 2, 3, 15)\n",
    "addGrade(db, 3, 3, 10)\n",
    "\n",
    "print(db)"
   ]
  },
  {
   "cell_type": "code",
   "execution_count": 14,
   "metadata": {},
   "outputs": [
    {
     "name": "stdout",
     "output_type": "stream",
     "text": [
      "{1: 10, 2: 18, 3: 25}\n"
     ]
    }
   ],
   "source": [
    "# A helper function that causes a dictionary lookup to return None instead of raising an exception\n",
    "def get(dict, key):\n",
    "    if key in dict:\n",
    "        return dict[key]\n",
    "    else:\n",
    "        return None\n",
    "# Our representation of grades really shines here!\n",
    "def studentGrades(db, student_id):\n",
    "    return get(db[\"grades\"], student_id)\n",
    "\n",
    "# get grades of student_id = 1\n",
    "print(studentGrades(db,1))  \n",
    "assert studentGrades(db, 1) == {1: 10, 2: 18, 3: 25}"
   ]
  },
  {
   "cell_type": "markdown",
   "metadata": {},
   "source": [
    "# Use redundant dictionaries"
   ]
  },
  {
   "cell_type": "code",
   "execution_count": 26,
   "metadata": {},
   "outputs": [
    {
     "name": "stdout",
     "output_type": "stream",
     "text": [
      "{'studentsById': {}, 'studentsByName': {}, 'psets': {}, 'gradesByStudent': {}, 'gradesByPset': {}}\n"
     ]
    }
   ],
   "source": [
    "def empty():\n",
    "    return {\"studentsById\": {},\n",
    "            \"studentsByName\": {},\n",
    "            \"psets\": {},\n",
    "            \"gradesByStudent\": {},\n",
    "            \"gradesByPset\": {}}\n",
    "\n",
    "db = empty()\n",
    "def get(dict, key):\n",
    "    if key in dict:\n",
    "        return dict[key]\n",
    "    else:\n",
    "        return None\n",
    "# to add to a nested dictionary.\n",
    "def add2(dict1, key1, key2, value):\n",
    "    if key1 not in dict1:\n",
    "        dict1[key1] = {}\n",
    "    dict1[key1][key2] = value\n",
    "\n",
    "def addStudent(db, student_id, student_name):\n",
    "    db[\"studentsById\"][student_id] = student_name\n",
    "    db[\"studentsByName\"][student_name] = student_id\n",
    "\n",
    "def addPset(db, pset_id, pset_total_points):\n",
    "    db[\"psets\"][pset_id] = pset_total_points\n",
    "\n",
    "def addGrade(db, student_id, pset_id, points):\n",
    "    add2(db[\"gradesByStudent\"], student_id, pset_id, points)\n",
    "    add2(db[\"gradesByPset\"], pset_id, student_id, points)\n",
    "\n",
    "print(db)\n"
   ]
  },
  {
   "cell_type": "code",
   "execution_count": 27,
   "metadata": {},
   "outputs": [
    {
     "name": "stdout",
     "output_type": "stream",
     "text": [
      "{'studentsById': {1: 'Alice', 2: 'Bob', 3: 'Charlie'}, 'studentsByName': {'Alice': 1, 'Bob': 2, 'Charlie': 3}, 'psets': {1: 10, 2: 20, 3: 30}, 'gradesByStudent': {1: {1: 10, 2: 18, 3: 25}, 2: {3: 15}, 3: {3: 10}}, 'gradesByPset': {1: {1: 10}, 2: {1: 18}, 3: {1: 25, 2: 15, 3: 10}}}\n"
     ]
    }
   ],
   "source": [
    "addStudent(db, 1, \"Alice\")\n",
    "addStudent(db, 2, \"Bob\")\n",
    "addStudent(db, 3, \"Charlie\")\n",
    "#          pset_id, max_score\n",
    "addPset(db, 1, 10)\n",
    "addPset(db, 2, 20)\n",
    "addPset(db, 3, 30)\n",
    "#          student_id, pset_id, value\n",
    "addGrade(db, 1, 1, 10)\n",
    "addGrade(db, 1, 2, 18)\n",
    "addGrade(db, 1, 3, 25)\n",
    "addGrade(db, 2, 3, 15)\n",
    "addGrade(db, 3, 3, 10)\n",
    "print(db)"
   ]
  },
  {
   "cell_type": "code",
   "execution_count": 34,
   "metadata": {},
   "outputs": [
    {
     "name": "stdout",
     "output_type": "stream",
     "text": [
      "dict_items([(1, 10), (2, 30), (3, 40)])\n",
      "{1: 10, 2: 30, 3: 40}\n",
      "{'Alice': 10, 'Bob': 30, 'Charlie': 40}\n"
     ]
    }
   ],
   "source": [
    "#   example of comprehension to create a dictionary\n",
    "mydict = {1:10, 2:30, 3:40}\n",
    "print(mydict.items())\n",
    "print( {student_id: points for student_id, points in mydict.items()})\n",
    "print({db[\"studentsById\"][student_id] : points  for student_id, points in mydict.items()})"
   ]
  },
  {
   "cell_type": "code",
   "execution_count": 29,
   "metadata": {},
   "outputs": [
    {
     "name": "stdout",
     "output_type": "stream",
     "text": [
      "for pset: 3\n",
      "{1: 25, 2: 15, 3: 10}\n",
      "{'Alice': 25, 'Bob': 15, 'Charlie': 10}\n"
     ]
    }
   ],
   "source": [
    "def gradesOnPset(db, pset_id):\n",
    "    students = get(db[\"gradesByPset\"], pset_id)\n",
    "    print('for pset:', pset_id)\n",
    "    print(students)\n",
    "    if students:     # see example above \n",
    "        return {db[\"studentsById\"][student_id]: points\n",
    "            for student_id, points in students.items()}\n",
    "    else:\n",
    "        return {}\n",
    "    \n",
    "print(gradesOnPset(db,3))"
   ]
  },
  {
   "cell_type": "code",
   "execution_count": 20,
   "metadata": {},
   "outputs": [
    {
     "name": "stdout",
     "output_type": "stream",
     "text": [
      "{1: 10, 2: 18, 3: 25}\n"
     ]
    }
   ],
   "source": [
    "def studentGrades(db, student_id):\n",
    "    return get(db[\"gradesByStudent\"], student_id)\n",
    "print(studentGrades(db,1))"
   ]
  },
  {
   "cell_type": "markdown",
   "metadata": {},
   "source": [
    "# Use caching sums to support fast average calculation"
   ]
  },
  {
   "cell_type": "code",
   "execution_count": 36,
   "metadata": {},
   "outputs": [
    {
     "name": "stdout",
     "output_type": "stream",
     "text": [
      "{'studentsById': {1: {'id': 1, 'name': 'Alice', 'grades': {1: {'student': 1, 'pset': 1, 'points': 10}, 2: {'student': 1, 'pset': 2, 'points': 18}, 3: {'student': 1, 'pset': 3, 'points': 25}}}, 2: {'id': 2, 'name': 'Bob', 'grades': {3: {'student': 2, 'pset': 3, 'points': 15}}}, 3: {'id': 3, 'name': 'Charlie', 'grades': {3: {'student': 3, 'pset': 3, 'points': 10}}}}, 'studentsByName': {'Alice': {'id': 1, 'name': 'Alice', 'grades': {1: {'student': 1, 'pset': 1, 'points': 10}, 2: {'student': 1, 'pset': 2, 'points': 18}, 3: {'student': 1, 'pset': 3, 'points': 25}}}, 'Bob': {'id': 2, 'name': 'Bob', 'grades': {3: {'student': 2, 'pset': 3, 'points': 15}}}, 'Charlie': {'id': 3, 'name': 'Charlie', 'grades': {3: {'student': 3, 'pset': 3, 'points': 10}}}}, 'psets': {1: {'id': 1, 'points': 10, 'grades': {1: {'student': 1, 'pset': 1, 'points': 10}}, 'gradesSum': 10}, 2: {'id': 2, 'points': 20, 'grades': {1: {'student': 1, 'pset': 2, 'points': 18}}, 'gradesSum': 18}, 3: {'id': 3, 'points': 30, 'grades': {1: {'student': 1, 'pset': 3, 'points': 25}, 2: {'student': 2, 'pset': 3, 'points': 15}, 3: {'student': 3, 'pset': 3, 'points': 10}}, 'gradesSum': 50}}}\n"
     ]
    }
   ],
   "source": [
    "# students = {sid:xx, name: yyy, grades:{ 1: { sid:xxx, pset_id: yyy, points: nnn }, psetid2: {  }   }}\n",
    "# psets = { 1: {id:x , points: y, grades: { }, gradesSum: n}, 2: {pset2}}\n",
    "# same grade object is referenced by students and psets \n",
    "def empty():\n",
    "    return {\"studentsById\": {},\n",
    "            \"studentsByName\": {},\n",
    "            \"psets\": {}}\n",
    "\n",
    "db = empty()\n",
    "\n",
    "# notice we keep the grades in the student dictionary. Note the repeated references to student and grades\n",
    "def addStudent(db, student_id, student_name):\n",
    "    student = {\"id\": student_id,\n",
    "               \"name\": student_name,\n",
    "               \"grades\": {}}\n",
    "\n",
    "    db[\"studentsById\"][student_id] = student           # 1st reference\n",
    "    db[\"studentsByName\"][student_name] = student       # 2nd reference\n",
    "\n",
    "def addPset(db, pset_id, pset_total_points):\n",
    "    pset = {\"id\": pset_id,\n",
    "            \"points\": pset_total_points,\n",
    "            \"grades\": {},\n",
    "            \"gradesSum\": 0}\n",
    "\n",
    "    db[\"psets\"][pset_id] = pset\n",
    "\n",
    "def addGrade(db, student_id, pset_id, points):\n",
    "    grade = {\"student\": student_id,\n",
    "             \"pset\": pset_id,\n",
    "             \"points\": points}\n",
    "\n",
    "    student = studentFromId(db, student_id)\n",
    "    student[\"grades\"][pset_id] = grade   # 1st reference\n",
    "\n",
    "    pset = psetFromId(db, pset_id)\n",
    "    pset[\"grades\"][student_id] = grade   # 2nd reference\n",
    "    pset[\"gradesSum\"] += points\n",
    "\n",
    "def studentFromId(db, student_id):\n",
    "    return get(db[\"studentsById\"], student_id)\n",
    "\n",
    "def studentNameFromId(db, student_id):\n",
    "    return studentName(studentFromId(db, student_id))\n",
    "\n",
    "def psetFromId(db, pset_id):\n",
    "    return get(db[\"psets\"], pset_id)\n",
    "\n",
    "def one(gen):\n",
    "    return next(gen, None)\n",
    "\n",
    "def get(dict, key):\n",
    "    if dict == None:\n",
    "        return None\n",
    "    elif key in dict:\n",
    "        return dict[key]\n",
    "    else:\n",
    "        return None\n",
    "    \n",
    "addStudent(db, 1, \"Alice\")\n",
    "addStudent(db, 2, \"Bob\")\n",
    "addStudent(db, 3, \"Charlie\")\n",
    "#          pset_id, max_score\n",
    "addPset(db, 1, 10)\n",
    "addPset(db, 2, 20)\n",
    "addPset(db, 3, 30)\n",
    "#          student_id, pset_id, value\n",
    "addGrade(db, 1, 1, 10)\n",
    "addGrade(db, 1, 2, 18)\n",
    "addGrade(db, 1, 3, 25)\n",
    "addGrade(db, 2, 3, 15)\n",
    "addGrade(db, 3, 3, 10)\n",
    "print(db)"
   ]
  },
  {
   "cell_type": "code",
   "execution_count": null,
   "metadata": {},
   "outputs": [],
   "source": []
  }
 ],
 "metadata": {
  "kernelspec": {
   "display_name": "Python 3",
   "language": "python",
   "name": "python3"
  },
  "language_info": {
   "codemirror_mode": {
    "name": "ipython",
    "version": 3
   },
   "file_extension": ".py",
   "mimetype": "text/x-python",
   "name": "python",
   "nbconvert_exporter": "python",
   "pygments_lexer": "ipython3",
   "version": "3.7.3"
  }
 },
 "nbformat": 4,
 "nbformat_minor": 2
}

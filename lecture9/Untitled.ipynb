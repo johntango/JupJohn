{
 "cells": [
  {
   "cell_type": "code",
   "execution_count": null,
   "metadata": {},
   "outputs": [],
   "source": [
    "# Student\n",
    "s1 = {'id':1, 'name':'Alice'}\n",
    "s2 = {'id':2, 'name':'Bob'}\n",
    "s3 = {'id':3, 'name':'Charles'}\n",
    "students ={'students':[s1, s2, s3]}"
   ]
  },
  {
   "cell_type": "code",
   "execution_count": null,
   "metadata": {},
   "outputs": [],
   "source": [
    "# Psets\n",
    "p1 = {'id':1, 'maxScore':100}\n",
    "p2 = {'id':2, 'maxScore':80}\n",
    "p2 = {'id':3, 'maxScore':120}\n",
    "psets = {'psets':[p1, p2, p3]}"
   ]
  },
  {
   "cell_type": "code",
   "execution_count": 2,
   "metadata": {},
   "outputs": [],
   "source": [
    "# Grades\n",
    "g1 = {'sid': 1, 'pid': 1, 'score': 90}\n",
    "g2 = {'sid': 2, 'pid': 1, 'score': 95}\n",
    "g3 = {'sid': 1, 'pid': 2, 'score': 50}\n",
    "grades = {'grades':[g1, g2, g3]}"
   ]
  },
  {
   "cell_type": "code",
   "execution_count": 34,
   "metadata": {},
   "outputs": [],
   "source": [
    "def empty():\n",
    "    return {'students':[], 'psets': [], 'grades':[]}\n",
    "\n",
    "db = empty()"
   ]
  },
  {
   "cell_type": "code",
   "execution_count": 35,
   "metadata": {},
   "outputs": [
    {
     "data": {
      "text/plain": [
       "{'students': [{'id': 1, 'name': 'Alice'},\n",
       "  {'id': 2, 'name': 'Bob'},\n",
       "  {'id': 3, 'name': 'Charles'}],\n",
       " 'psets': [{'id': 1, 'points': 100},\n",
       "  {'id': 2, 'points': 90},\n",
       "  {'id': 3, 'points': 120}],\n",
       " 'grades': [{'student': 1, 'pset': 1, 'points': 98},\n",
       "  {'student': 1, 'pset': 2, 'points': 70},\n",
       "  {'student': 1, 'pset': 3, 'points': 110},\n",
       "  {'student': 2, 'pset': 3, 'points': 112},\n",
       "  {'student': 3, 'pset': 3, 'points': 108}]}"
      ]
     },
     "execution_count": 35,
     "metadata": {},
     "output_type": "execute_result"
    }
   ],
   "source": [
    "# Add a new student\n",
    "def addStudent(db, studentId, studentName ):\n",
    "    db['students'].append({'id':studentId, 'name':studentName})\n",
    "\n",
    "# Add a new pset to the database.\n",
    "def addPset(db, pset_id, pset_total_points):\n",
    "    db[\"psets\"].append({\"id\": pset_id,\n",
    "                        \"points\": pset_total_points})\n",
    "\n",
    "# Record a student's grade on a pset.\n",
    "def addGrade(db, student_id, pset_id, points):\n",
    "    db[\"grades\"].append({\"student\": student_id,\n",
    "                         \"pset\": pset_id,\n",
    "                         \"points\": points})\n",
    "\n",
    "addStudent(db, 1, 'Alice')\n",
    "addStudent(db, 2, 'Bob')\n",
    "addStudent(db, 3, 'Charles')\n",
    "\n",
    "addPset(db, 1, 100)\n",
    "addPset(db, 2, 90)\n",
    "addPset(db, 3, 120)\n",
    "                         \n",
    "addGrade(db, 1, 1, 98)\n",
    "addGrade(db, 1, 2, 70)\n",
    "addGrade(db, 1, 3, 110)\n",
    "addGrade(db, 2, 3, 112)\n",
    "addGrade(db, 3, 3, 108)\n",
    "\n",
    "db\n"
   ]
  },
  {
   "cell_type": "code",
   "execution_count": 36,
   "metadata": {},
   "outputs": [
    {
     "data": {
      "text/plain": [
       "[98]"
      ]
     },
     "execution_count": 36,
     "metadata": {},
     "output_type": "execute_result"
    }
   ],
   "source": [
    "# get grade\n",
    "def getGrade(db, sid, pid):\n",
    "    return [row['points'] for row in db['grades'] \n",
    "    if row['student'] == sid and row['pset'] == pid ]\n",
    "\n",
    "getGrade(db, 1, 1)\n",
    "{'grade': 98}"
   ]
  },
  {
   "cell_type": "code",
   "execution_count": null,
   "metadata": {},
   "outputs": [],
   "source": []
  }
 ],
 "metadata": {
  "kernelspec": {
   "display_name": "Python 3",
   "language": "python",
   "name": "python3"
  },
  "language_info": {
   "codemirror_mode": {
    "name": "ipython",
    "version": 3
   },
   "file_extension": ".py",
   "mimetype": "text/x-python",
   "name": "python",
   "nbconvert_exporter": "python",
   "pygments_lexer": "ipython3",
   "version": "3.9.0"
  }
 },
 "nbformat": 4,
 "nbformat_minor": 4
}

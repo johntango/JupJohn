{
 "cells": [
  {
   "cell_type": "markdown",
   "metadata": {},
   "source": [
    "## Gradient Decent\n",
    "Predicted y is as follows:\n",
    "$$ y^{'} = w^{T}x + c $$\n",
    "\n",
    "$$ L = \\frac{1}{N}\\sum_{i=1}^{N}(y_{i} - y^{'}_{i})^{2} = \\frac{1}{N}\\sum_{i=1}^{N}(y_{i} - (w^{T}x_{i} + b))^{2} $$\n",
    "Now find the gradients wrt w and b \n",
    "$$ \\frac{\\partial L}{\\partial w}  = \\frac{1}{N}\\sum_{i=1}^{N}-2x_{i}(y_{i} - (w^{T}x_{i} + b)) $$\n",
    "$$ \\frac{\\partial L}{\\partial b}  = \\frac{1}{N}\\sum_{i=1}^{N}-2(y_{i} - (w^{T}x_{i} + b)) $$"
   ]
  },
  {
   "cell_type": "code",
   "execution_count": 1,
   "metadata": {},
   "outputs": [
    {
     "data": {
      "text/plain": [
       "[<matplotlib.lines.Line2D at 0x7fa0df3daf10>]"
      ]
     },
     "execution_count": 1,
     "metadata": {},
     "output_type": "execute_result"
    },
    {
     "data": {
      "image/png": "[encoded data removed]",
      "text/plain": [
       "<Figure size 576x288 with 1 Axes>"
      ]
     },
     "metadata": {
      "needs_background": "light"
     },
     "output_type": "display_data"
    }
   ],
   "source": [
    "import numpy as np\n",
    "import matplotlib.pyplot as plt\n",
    "x = np.arange(1,101,1)\n",
    "w = 2\n",
    "b = 3\n",
    "k = 0.001\n",
    "nslice = 10\n",
    "noise = np.random.rand(100)\n",
    "wLast = 0.01\n",
    "bLast = 0.00\n",
    "y = x*w + noise + b   # generaty y and add noise\n",
    "wHist = []\n",
    "bHist = []\n",
    "def get_slice(x, y, n):\n",
    "    start = np.random.randint(0,101)\n",
    "    return x[start:start+n], y[start:start+n]\n",
    "\n",
    "def get_gradient_w(w_gradient,b, x, y):\n",
    "    diff  =  2*(y - w_gradient*x - b)\n",
    "    #print(f\" diff: {diff}\")\n",
    "    n = len(x)\n",
    "    delta_w = np.sum(diff*x)\n",
    "    #print(delta_w)\n",
    "    w_gradient = w_gradient + k*delta_w/n\n",
    "    return w_gradient\n",
    "\n",
    "def get_gradient_b(w_gradient,b, x, y):\n",
    "    diff  =  2*(y - w_gradient*x - b)\n",
    "    #print(f\" diff: {diff}\")\n",
    "    n = len(x)\n",
    "    delta_w = np.sum(diff)\n",
    "    #print(delta_w)\n",
    "    b = b + k*delta_w/n\n",
    "    return b\n",
    "for i in range(20):\n",
    "    x_slice, y_slice = get_slice(x, y,nslice)\n",
    "    wLast = get_gradient_w(wLast, bLast, x_slice, y_slice)\n",
    "    bLast = get_gradient_b(wLast, bLast, x_slice, y_slice)\n",
    "    wHist.append(wLast)\n",
    "    bHist.append(bLast)\n",
    "\n",
    "fig, ax = plt.subplots(figsize=(8,4))\n",
    "ax.plot(np.arange(len(wHist)),wHist, c='b', marker='o')\n",
    "ax.plot(np.arange(len(bHist)),bHist, c='r', marker='x')"
   ]
  },
  {
   "cell_type": "code",
   "execution_count": null,
   "metadata": {},
   "outputs": [],
   "source": []
  },
  {
   "cell_type": "code",
   "execution_count": null,
   "metadata": {},
   "outputs": [],
   "source": []
  }
 ],
 "metadata": {
  "kernelspec": {
   "display_name": "Python 3",
   "language": "python",
   "name": "python3"
  },
  "language_info": {
   "codemirror_mode": {
    "name": "ipython",
    "version": 3
   },
   "file_extension": ".py",
   "mimetype": "text/x-python",
   "name": "python",
   "nbconvert_exporter": "python",
   "pygments_lexer": "ipython3",
   "version": "3.9.0"
  }
 },
 "nbformat": 4,
 "nbformat_minor": 4
}

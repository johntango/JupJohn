{
 "cells": [
  {
   "cell_type": "markdown",
   "metadata": {},
   "source": [
    "## Gradient Decent\n",
    "Predicted y is as follows:\n",
    "$$ y^{'} = w^{T}x + c $$\n",
    "\n",
    "$$ L = \\sum_{i=1}^{N}(y_{i} - y^{'}_{i})^{2} = \\sum_{i=1}^{N}(y_{i} - (w^{T}x_{i} + b))^{2} $$\n",
    "Now find the gradients wrt w and b \n",
    "$$ \\frac{\\partial L}{\\partial w}  = \\sum_{i=1}^{N}-2x_{i}(y_{i} - (w^{T}x_{i} + b)) $$\n",
    "$$ \\frac{\\partial L}{\\partial b}  = \\sum_{i=1}^{N}-2(y_{i} - (w^{T}x_{i} + b)) $$"
   ]
  },
  {
   "cell_type": "code",
   "execution_count": 14,
   "metadata": {},
   "outputs": [
    {
     "name": "stdout",
     "output_type": "stream",
     "text": [
      "[37.72336598 38.47464597 39.29215349 40.08885011 41.95906259 42.92504511\n",
      " 43.39806885 44.0068961  45.5947249  46.0726487 ]\n",
      "[55.46366995 56.34063931 57.67504461 58.78376305 59.98043349 60.37193564\n",
      " 61.66198171 62.60326791 63.53681138 64.28431803]\n",
      "[ 3.31370753  4.47159475  5.57549267  6.31550663  7.43789799  8.01437212\n",
      "  9.3158929  10.37104551 11.77430742 12.07244967]\n",
      "[38.47464597 39.29215349 40.08885011 41.95906259 42.92504511 43.39806885\n",
      " 44.0068961  45.5947249  46.0726487  47.24245449]\n"
     ]
    }
   ],
   "source": [
    "import numpy as np\n",
    "x = np.arange(1,101,1)\n",
    "w = 1\n",
    "b = 0\n",
    "noise = np.random.rand(100)\n",
    "y = x*w + noise + b   # generaty y and add noise\n",
    "\n",
    "def get_slice(y, n):\n",
    "    start = np.random.randint(0,91)\n",
    "    return y[start:start+10]\n",
    "\n",
    "def get_gradient():\n",
    "    prediction = w_gradient*x[i] + b\n",
    "    w_gradient = w_gradient + (-2)*x[i]*(y[i]-(prediction))\n",
    "\n",
    "print(get_slice(y,10))\n",
    "\n"
   ]
  },
  {
   "cell_type": "code",
   "execution_count": null,
   "metadata": {},
   "outputs": [],
   "source": []
  }
 ],
 "metadata": {
  "kernelspec": {
   "display_name": "Python 3",
   "language": "python",
   "name": "python3"
  },
  "language_info": {
   "codemirror_mode": {
    "name": "ipython",
    "version": 3
   },
   "file_extension": ".py",
   "mimetype": "text/x-python",
   "name": "python",
   "nbconvert_exporter": "python",
   "pygments_lexer": "ipython3",
   "version": "3.9.0"
  }
 },
 "nbformat": 4,
 "nbformat_minor": 4
}

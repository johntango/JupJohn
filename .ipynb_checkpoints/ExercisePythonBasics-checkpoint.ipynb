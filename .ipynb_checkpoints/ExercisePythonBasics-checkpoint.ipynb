{
 "cells": [
  {
   "cell_type": "markdown",
   "metadata": {},
   "source": [
    "## Exercise on Basics of Python\n",
    "### There are a couple of new things that you will need to look up\n",
    "### Most things we have already covered"
   ]
  },
  {
   "cell_type": "code",
   "execution_count": null,
   "metadata": {},
   "outputs": [],
   "source": [
    "# in Python variables cannot begin with a number\n",
    "# True or False"
   ]
  },
  {
   "cell_type": "code",
   "execution_count": null,
   "metadata": {},
   "outputs": [],
   "source": [
    "# in Python variables cannot begin with an underscore\n",
    "# True or False"
   ]
  },
  {
   "cell_type": "code",
   "execution_count": null,
   "metadata": {},
   "outputs": [],
   "source": [
    "# in Python Dictionaries are immutable \n",
    "# True or False \n",
    "\n",
    "\n",
    "\n",
    "\n",
    "\n",
    "\n",
    "\n"
   ]
  },
  {
   "cell_type": "code",
   "execution_count": 32,
   "metadata": {},
   "outputs": [
    {
     "name": "stdout",
     "output_type": "stream",
     "text": [
      "Hello o World\n"
     ]
    }
   ],
   "source": [
    "# use 2 slicing operators to print out \"Hello o World\"\n",
    "\n",
    "str1 = \"Hello World\"\n",
    "print(str1[??], str1[??]\n",
    "\n",
    "# Answer\n",
    "print(str1[:5], str1[4:]) "
   ]
  },
  {
   "cell_type": "code",
   "execution_count": 8,
   "metadata": {},
   "outputs": [
    {
     "name": "stdout",
     "output_type": "stream",
     "text": [
      "dlroW olleH\n"
     ]
    }
   ],
   "source": [
    "# print the string backwards\n",
    "str1 = \"Hello World\"\n",
    "# Answer\n",
    "print(str1[::-1])"
   ]
  },
  {
   "cell_type": "code",
   "execution_count": 59,
   "metadata": {},
   "outputs": [
    {
     "name": "stdout",
     "output_type": "stream",
     "text": [
      "True\n",
      "A\n"
     ]
    },
    {
     "data": {
      "text/plain": [
       "str"
      ]
     },
     "execution_count": 59,
     "metadata": {},
     "output_type": "execute_result"
    }
   ],
   "source": [
    "# What does the following print - Look up on Google what ASCII is and what \"ord\" does \n",
    "print( ord('A') == 65)\n",
    "print(chr(65))"
   ]
  },
  {
   "cell_type": "code",
   "execution_count": 49,
   "metadata": {},
   "outputs": [
    {
     "name": "stdout",
     "output_type": "stream",
     "text": [
      "My name's captain kirk\n",
      "My Name'S Captain Kirk\n"
     ]
    }
   ],
   "source": [
    "# what do the following print out - look them up on Google\n",
    "str = \"my name's captain kirk\";\n",
    "print (str.capitalize())\n",
    "print(str.title())"
   ]
  },
  {
   "cell_type": "code",
   "execution_count": 27,
   "metadata": {},
   "outputs": [
    {
     "name": "stdout",
     "output_type": "stream",
     "text": [
      "1\n"
     ]
    }
   ],
   "source": [
    "# What will the value of x be - work it out by hand first\n",
    "x = 0\n",
    "a = 0\n",
    "b = -5\n",
    "if a > 0:\n",
    "    if b < 0: \n",
    "        x = x + 3 \n",
    "elif a <= 0:\n",
    "        x = x + 1\n",
    "else:\n",
    "    x = x + 2\n",
    "#print(x)"
   ]
  },
  {
   "cell_type": "code",
   "execution_count": 28,
   "metadata": {},
   "outputs": [
    {
     "name": "stdout",
     "output_type": "stream",
     "text": [
      "10 Chair\n",
      "10 Table\n",
      "20 Chair\n",
      "20 Table\n"
     ]
    }
   ],
   "source": [
    "# work out by hand what will be printed out\n",
    "numbers = [10, 20]\n",
    "items = [\"Chair\", \"Table\"]\n",
    "\n",
    "for x in numbers:\n",
    "  for y in items:\n",
    "    print(x, y)"
   ]
  },
  {
   "cell_type": "code",
   "execution_count": 29,
   "metadata": {},
   "outputs": [
    {
     "name": "stdout",
     "output_type": "stream",
     "text": [
      "10\n",
      "11\n",
      "12\n",
      "13\n"
     ]
    }
   ],
   "source": [
    "# work out by hand what will be printed out\n",
    "for num in range(10, 14):\n",
    "   for i in range(2, num):\n",
    "       if num % i == 1:      # % is mod  so 3%2 = 1\n",
    "          print(num)\n",
    "          break"
   ]
  },
  {
   "cell_type": "code",
   "execution_count": 14,
   "metadata": {},
   "outputs": [
    {
     "ename": "SyntaxError",
     "evalue": "invalid syntax (<ipython-input-14-02cb6ec0d32d>, line 3)",
     "output_type": "error",
     "traceback": [
      "\u001b[0;36m  File \u001b[0;32m\"<ipython-input-14-02cb6ec0d32d>\"\u001b[0;36m, line \u001b[0;32m3\u001b[0m\n\u001b[0;31m    for i in range(???):\u001b[0m\n\u001b[0m                   ^\u001b[0m\n\u001b[0;31mSyntaxError\u001b[0m\u001b[0;31m:\u001b[0m invalid syntax\n"
     ]
    }
   ],
   "source": [
    "# Using the range object complete the following list so that a = [10,12,14,16,18]\n",
    "a = []\n",
    "for i in range(???):\n",
    "    a.append(i)\n",
    "a"
   ]
  },
  {
   "cell_type": "code",
   "execution_count": 16,
   "metadata": {},
   "outputs": [
    {
     "name": "stdout",
     "output_type": "stream",
     "text": [
      "<class 'list'>\n",
      "<class 'dict'>\n",
      "<class 'tuple'>\n",
      "<class 'set'>\n"
     ]
    }
   ],
   "source": [
    "# What do the following print out \n",
    "a = 3\n",
    "print(type([]))\n",
    "print(type({}))\n",
    "print(type(()))\n",
    "print(type({a}))\n"
   ]
  },
  {
   "cell_type": "code",
   "execution_count": null,
   "metadata": {},
   "outputs": [],
   "source": [
    "# Make a list of all odd numbers between 30 and 60\n",
    "a = []"
   ]
  },
  {
   "cell_type": "code",
   "execution_count": 2,
   "metadata": {},
   "outputs": [
    {
     "name": "stdout",
     "output_type": "stream",
     "text": [
      "key= A, value= Apple\n",
      "key= B, value= Banana\n",
      "key= C, value= Cantalope\n"
     ]
    }
   ],
   "source": [
    "# Use a for loop to print out each item in this Dictionary\n",
    "d = {\"A\":\"Apple\",\"B\":\"Banana\",\"C\":\"Cantalope\"}\n",
    "\n",
    "# use \"for k,v in ??\"\" to print out both the key and the value of each item\n",
    "for k,v in d.items():\n",
    "    print(f\"key= {k}, value= {v}\")\n"
   ]
  },
  {
   "cell_type": "code",
   "execution_count": null,
   "metadata": {},
   "outputs": [],
   "source": [
    "# Change Fred's marks so he gets 93\n",
    "student = { \n",
    "  \"name\": \"Fred\", \n",
    "  \"class\": 2, \n",
    "  \"marks\": 85 \n",
    "}"
   ]
  },
  {
   "cell_type": "code",
   "execution_count": 9,
   "metadata": {},
   "outputs": [
    {
     "name": "stdout",
     "output_type": "stream",
     "text": [
      "True\n"
     ]
    }
   ],
   "source": [
    "# What will the following print out\n",
    "dict1 = {\"key1\":1, \"key2\":2}\n",
    "dict2 = {\"key2\":2, \"key1\":1}\n",
    "print(dict1 == dict2)"
   ]
  },
  {
   "cell_type": "code",
   "execution_count": 21,
   "metadata": {},
   "outputs": [
    {
     "name": "stdout",
     "output_type": "stream",
     "text": [
      "Math: 88, English: 70\n"
     ]
    }
   ],
   "source": [
    "# Print out Fred's scores for math and english\n",
    "myDict = { \n",
    "   \"class\":{ \n",
    "      \"student\":{ \n",
    "         \"name\":\"Fred\",\n",
    "         \"marks\":{ \n",
    "            \"math\":88,\n",
    "            \"english\":70\n",
    "         }\n",
    "      }\n",
    "   }\n",
    "}\n",
    "# Answer\n",
    "print(f\"Math: {myDict['class']['student']['marks']['math']}, English: {myDict['class']['student']['marks']['english']}\")"
   ]
  },
  {
   "cell_type": "code",
   "execution_count": 24,
   "metadata": {},
   "outputs": [
    {
     "name": "stdout",
     "output_type": "stream",
     "text": [
      "Anne's age is 22\n"
     ]
    }
   ],
   "source": [
    "# Print out Anne's age\n",
    "student = {1: {'name': 'Fred', 'age': '27', 'marks': 77},\n",
    "           2: {'name': 'Anne', 'age': '22', 'marks': 88}}\n",
    "# Answer \n",
    "print(f\"Anne's age is {student[2]['age']}\")"
   ]
  },
  {
   "cell_type": "code",
   "execution_count": 58,
   "metadata": {},
   "outputs": [
    {
     "name": "stdout",
     "output_type": "stream",
     "text": [
      "{2: {'name': 'Anne', 'age': '22', 'marks': 88}}\n",
      "{}\n"
     ]
    }
   ],
   "source": [
    "# What do you think clear() does to a dictionary\n",
    "student = {1: {'name': 'Fred', 'age': '27', 'marks': 77},\n",
    "           2: {'name': 'Anne', 'age': '22', 'marks': 88}}\n",
    "del student[1]  # delete an item from a dictionary\n",
    "print(student)\n",
    "student.clear() # clear the dictionary\n",
    "print(student)"
   ]
  },
  {
   "cell_type": "code",
   "execution_count": null,
   "metadata": {},
   "outputs": [],
   "source": []
  }
 ],
 "metadata": {
  "kernelspec": {
   "display_name": "Python 3",
   "language": "python",
   "name": "python3"
  },
  "language_info": {
   "codemirror_mode": {
    "name": "ipython",
    "version": 3
   },
   "file_extension": ".py",
   "mimetype": "text/x-python",
   "name": "python",
   "nbconvert_exporter": "python",
   "pygments_lexer": "ipython3",
   "version": "3.9.0"
  }
 },
 "nbformat": 4,
 "nbformat_minor": 4
}

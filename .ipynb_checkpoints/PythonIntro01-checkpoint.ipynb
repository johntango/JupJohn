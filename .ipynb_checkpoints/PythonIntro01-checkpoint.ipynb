{
 "cells": [
  {
   "cell_type": "markdown",
   "metadata": {},
   "source": [
    "## Python for Data Science\n",
    "#### Data Types \n",
    "#### str, int, float, complex, boolean\n",
    "#### Sequences/Collections  (list, tuple, range)\n",
    "#### Maps (dict )\n",
    "\n"
   ]
  },
  {
   "cell_type": "code",
   "execution_count": null,
   "metadata": {},
   "outputs": [],
   "source": [
    "# variables, values and types\n",
    "a = np.array([1,2])\n",
    "a.len"
   ]
  },
  {
   "cell_type": "code",
   "execution_count": null,
   "metadata": {},
   "outputs": [],
   "source": [
    "# int, float, type\n",
    "\n",
    "\n",
    "\n",
    "\n"
   ]
  },
  {
   "cell_type": "code",
   "execution_count": null,
   "metadata": {},
   "outputs": [],
   "source": [
    "\n",
    "\n",
    "\n",
    "\n",
    "\n",
    "\n",
    "\n"
   ]
  },
  {
   "cell_type": "code",
   "execution_count": null,
   "metadata": {},
   "outputs": [],
   "source": [
    "# variables, values and types\n",
    "a = 'Hello '\n",
    "b = \"World\"\n",
    "a + b\n",
    "c = a[1:3]\n",
    "c"
   ]
  },
  {
   "cell_type": "code",
   "execution_count": null,
   "metadata": {},
   "outputs": [],
   "source": [
    "# int, float, type\n",
    "\n",
    "a = 3\n",
    "b = str(a)\n",
    "c = 7.4\n",
    "d = int(c)\n",
    "d\n",
    "\n",
    "\n"
   ]
  },
  {
   "cell_type": "code",
   "execution_count": null,
   "metadata": {},
   "outputs": [],
   "source": [
    "# Camel case, Pascal case and Snake case\n",
    "temperature = 37.3\n",
    "myVariableName = 43  # Camel Case\n",
    "MyVariableName = 22  # Pascal Case\n",
    "my_variable_name = 33 # Snake Case\n",
    "\n",
    "\n",
    "\n"
   ]
  },
  {
   "cell_type": "code",
   "execution_count": null,
   "metadata": {},
   "outputs": [],
   "source": [
    "# boolean True False\n",
    "a = True \n",
    "b = False\n",
    "a != b\n"
   ]
  },
  {
   "cell_type": "code",
   "execution_count": null,
   "metadata": {},
   "outputs": [],
   "source": [
    "a = 4\n",
    "if a > 4:\n",
    "    print(a)\n",
    "elif a < 4:\n",
    "    print('a is less than 4')\n",
    "else:\n",
    "    print('a equals 4')\n",
    "    \n",
    "    \n"
   ]
  },
  {
   "cell_type": "code",
   "execution_count": null,
   "metadata": {},
   "outputs": [],
   "source": [
    "b = 3\n",
    "def myFunc(x, y):\n",
    "    return x + y\n",
    "    \n",
    "\n",
    "myResult = myFunc(9, 8)\n",
    "myResult"
   ]
  },
  {
   "cell_type": "raw",
   "metadata": {},
   "source": [
    "\n",
    "    "
   ]
  },
  {
   "cell_type": "raw",
   "metadata": {},
   "source": [
    "# Comparisions if, elif, else\n",
    "if a < b:\n",
    "    print(\"a is less than b\")\n",
    "elif a > b:\n",
    "    print(\"a is greater than b\")\n",
    "else:\n",
    "    print(\"a is equal to b\")"
   ]
  },
  {
   "cell_type": "raw",
   "metadata": {},
   "source": [
    "# Lists, Dictionaries, Tuples, Sets\n",
    "# [ ]       { : }         ( )     { }\n"
   ]
  },
  {
   "cell_type": "code",
   "execution_count": null,
   "metadata": {},
   "outputs": [],
   "source": [
    "# Lists\n",
    "a = [1, 2.23, 3, 4, 'Cat']\n",
    "a\n"
   ]
  },
  {
   "cell_type": "code",
   "execution_count": null,
   "metadata": {},
   "outputs": [],
   "source": [
    "# Loops, while, for \n",
    "fruits = ['apple', 'pear', 'peach']\n",
    "r = range(1,9,2)\n",
    "for i in r:\n",
    "    print(i)\n",
    "a = 3\n",
    "if a in r:\n",
    "    print(a)"
   ]
  },
  {
   "cell_type": "code",
   "execution_count": null,
   "metadata": {},
   "outputs": [],
   "source": [
    "i = 1\n",
    "while i in range(4):\n",
    "    print(i)\n",
    "    i = i + 1\n",
    "    break\n",
    "\n"
   ]
  },
  {
   "cell_type": "code",
   "execution_count": null,
   "metadata": {},
   "outputs": [],
   "source": [
    "# lists\n",
    "a = [4,3,2,1]\n",
    "a.append(5)\n",
    "a.sort()\n",
    "a.reverse()\n",
    "a.index(3)\n",
    "\n",
    "\n"
   ]
  },
  {
   "cell_type": "code",
   "execution_count": null,
   "metadata": {},
   "outputs": [],
   "source": [
    "# Dictionary\n",
    "a = {'name':'John', 'email':'jrw@mit.edu'}\n",
    "\n"
   ]
  },
  {
   "cell_type": "code",
   "execution_count": null,
   "metadata": {},
   "outputs": [],
   "source": [
    "# tuple\n",
    "\n",
    "\n",
    "\n",
    "\n",
    "\n",
    "\n",
    "\n",
    "\n",
    "\n",
    "\n",
    "\n",
    "\n",
    "\n",
    "p = ('A','B','C')\n",
    "a[p] = 999\n",
    "a[p] = 767\n",
    "for key in a:\n",
    "    print(a[key])"
   ]
  },
  {
   "cell_type": "code",
   "execution_count": null,
   "metadata": {},
   "outputs": [],
   "source": [
    "# set\n",
    "a ={'alpha','beta','kappa'}\n",
    "a.add('gamma')\n",
    "if 'beta' in a:\n",
    "    print(a)\n",
    "\n",
    "b = [1,2,3]\n",
    "c = set(b)\n",
    "c"
   ]
  },
  {
   "cell_type": "code",
   "execution_count": 21,
   "metadata": {},
   "outputs": [
    {
     "data": {
      "text/plain": [
       "[[-2, 'A', 2], [-2, 'A', 2]]"
      ]
     },
     "execution_count": 21,
     "metadata": {},
     "output_type": "execute_result"
    }
   ],
   "source": [
    "# Lists\n",
    "a = [1, 'A', 2]\n",
    "b = [a, a]\n",
    "a[0] = -2\n",
    "b"
   ]
  },
  {
   "cell_type": "code",
   "execution_count": 18,
   "metadata": {},
   "outputs": [
    {
     "name": "stdout",
     "output_type": "stream",
     "text": [
      "[[4, 5, 6]]\n"
     ]
    },
    {
     "data": {
      "text/plain": [
       "[[1, 2, 3], [-9, 5, 6]]"
      ]
     },
     "execution_count": 18,
     "metadata": {},
     "output_type": "execute_result"
    }
   ],
   "source": [
    "# 2-D Lists\n",
    "a = [[1,2,3],[4,5,6]]\n",
    "b"
   ]
  },
  {
   "cell_type": "code",
   "execution_count": 7,
   "metadata": {},
   "outputs": [
    {
     "data": {
      "text/plain": [
       "array([[2, 3],\n",
       "       [5, 6]])"
      ]
     },
     "execution_count": 7,
     "metadata": {},
     "output_type": "execute_result"
    }
   ],
   "source": [
    "import numpy as np\n",
    "\n",
    "a = np.array([[1,2,3],[4,5,6]])\n",
    "b = a[0:3,1:3]\n",
    "b"
   ]
  },
  {
   "cell_type": "code",
   "execution_count": null,
   "metadata": {},
   "outputs": [],
   "source": []
  },
  {
   "cell_type": "code",
   "execution_count": null,
   "metadata": {},
   "outputs": [],
   "source": []
  }
 ],
 "metadata": {
  "kernelspec": {
   "display_name": "Python 3",
   "language": "python",
   "name": "python3"
  },
  "language_info": {
   "codemirror_mode": {
    "name": "ipython",
    "version": 3
   },
   "file_extension": ".py",
   "mimetype": "text/x-python",
   "name": "python",
   "nbconvert_exporter": "python",
   "pygments_lexer": "ipython3",
   "version": "3.9.0"
  }
 },
 "nbformat": 4,
 "nbformat_minor": 4
}
